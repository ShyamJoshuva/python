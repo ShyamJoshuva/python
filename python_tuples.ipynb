{
 "cells": [
  {
   "cell_type": "markdown",
   "id": "c46c392e",
   "metadata": {},
   "source": [
    "## Python_Tuples "
   ]
  },
  {
   "cell_type": "markdown",
   "id": "7deb4ef8",
   "metadata": {},
   "source": [
    "* Tuple is a collection which is ordered and unchangeable. Allows duplicate members.\n",
    "* Ordered: When we say that tuples are ordered, it means that the items have a defined order, and that order will not change.\n",
    "\n",
    "* Unchangeable: Tuples are unchangeable, meaning that we cannot change, add or remove items after the tuple has been created.\n",
    "\n",
    "* Allow Duplicates \n",
    "* Since tuples are indexed, they can have items with the same value.'''"
   ]
  },
  {
   "cell_type": "code",
   "execution_count": 29,
   "id": "667e7462",
   "metadata": {},
   "outputs": [
    {
     "data": {
      "text/plain": [
       "('a', 'b', 'c', 'c')"
      ]
     },
     "execution_count": 29,
     "metadata": {},
     "output_type": "execute_result"
    }
   ],
   "source": [
    "# creating a tuple\n",
    "\n",
    "tup = ('a','b','c','c')\n",
    "tup"
   ]
  },
  {
   "cell_type": "code",
   "execution_count": 19,
   "id": "6f34a995",
   "metadata": {},
   "outputs": [
    {
     "name": "stdout",
     "output_type": "stream",
     "text": [
      "<class 'tuple'>\n"
     ]
    },
    {
     "data": {
      "text/plain": [
       "tuple"
      ]
     },
     "execution_count": 19,
     "metadata": {},
     "output_type": "execute_result"
    }
   ],
   "source": [
    "#type of tuple\n",
    "\n",
    "print(type(tup))\n",
    "type(tup)"
   ]
  },
  {
   "cell_type": "markdown",
   "id": "98b4f3f8",
   "metadata": {},
   "source": [
    "* From Python's perspective, tuples are defined as objects with the data type 'tuple'\n",
    "* it is also a collection datatype among the 4 collection datatypes(list,tuple,set,dictionary)"
   ]
  },
  {
   "cell_type": "code",
   "execution_count": 20,
   "id": "9317c75f",
   "metadata": {},
   "outputs": [
    {
     "data": {
      "text/plain": [
       "str"
      ]
     },
     "execution_count": 20,
     "metadata": {},
     "output_type": "execute_result"
    }
   ],
   "source": [
    "tup = ('a')\n",
    "type(tup)"
   ]
  },
  {
   "cell_type": "code",
   "execution_count": 21,
   "id": "47301269",
   "metadata": {},
   "outputs": [
    {
     "data": {
      "text/plain": [
       "tuple"
      ]
     },
     "execution_count": 21,
     "metadata": {},
     "output_type": "execute_result"
    }
   ],
   "source": [
    "# one element tuple\n",
    "\n",
    "tup = ('a',)\n",
    "type(tup)"
   ]
  },
  {
   "cell_type": "code",
   "execution_count": 24,
   "id": "a5a77219",
   "metadata": {},
   "outputs": [
    {
     "data": {
      "text/plain": [
       "('a',)"
      ]
     },
     "execution_count": 24,
     "metadata": {},
     "output_type": "execute_result"
    }
   ],
   "source": [
    "#tuple created with a constructor\n",
    "\n",
    "tup = tuple('a')\n",
    "tup"
   ]
  },
  {
   "cell_type": "code",
   "execution_count": 26,
   "id": "3d3b7114",
   "metadata": {},
   "outputs": [
    {
     "ename": "TypeError",
     "evalue": "tuple expected at most 1 argument, got 3",
     "output_type": "error",
     "traceback": [
      "\u001b[1;31m---------------------------------------------------------------------------\u001b[0m",
      "\u001b[1;31mTypeError\u001b[0m                                 Traceback (most recent call last)",
      "\u001b[1;32m<ipython-input-26-44cb5cbf18cb>\u001b[0m in \u001b[0;36m<module>\u001b[1;34m\u001b[0m\n\u001b[0;32m      1\u001b[0m \u001b[1;31m# tuple constructor accepts only one arguement\u001b[0m\u001b[1;33m\u001b[0m\u001b[1;33m\u001b[0m\u001b[1;33m\u001b[0m\u001b[0m\n\u001b[0;32m      2\u001b[0m \u001b[1;33m\u001b[0m\u001b[0m\n\u001b[1;32m----> 3\u001b[1;33m \u001b[0mtup\u001b[0m \u001b[1;33m=\u001b[0m \u001b[0mtuple\u001b[0m\u001b[1;33m(\u001b[0m\u001b[1;34m'a'\u001b[0m\u001b[1;33m,\u001b[0m\u001b[1;34m'b'\u001b[0m\u001b[1;33m,\u001b[0m\u001b[1;34m'c'\u001b[0m\u001b[1;33m)\u001b[0m\u001b[1;33m\u001b[0m\u001b[1;33m\u001b[0m\u001b[0m\n\u001b[0m",
      "\u001b[1;31mTypeError\u001b[0m: tuple expected at most 1 argument, got 3"
     ]
    }
   ],
   "source": [
    "# tuple constructor accepts only one arguement \n",
    "\n",
    "tup = tuple('a','b','c')"
   ]
  },
  {
   "cell_type": "code",
   "execution_count": 32,
   "id": "c93a26a9",
   "metadata": {},
   "outputs": [
    {
     "name": "stdout",
     "output_type": "stream",
     "text": [
      "<class 'tuple'>\n",
      "The length of tup is  3\n"
     ]
    },
    {
     "data": {
      "text/plain": [
       "('a', 'b', 'c')"
      ]
     },
     "execution_count": 32,
     "metadata": {},
     "output_type": "execute_result"
    }
   ],
   "source": [
    "# tuple created with the help of the constructor with multiple elements\n",
    "\n",
    "tup = tuple(('a','b','c'))\n",
    "print(type(tup))\n",
    "print(\"The length of tup is \",len(tup))\n",
    "tup"
   ]
  },
  {
   "cell_type": "markdown",
   "id": "df453333",
   "metadata": {},
   "source": [
    "### accessing tuples"
   ]
  },
  {
   "cell_type": "code",
   "execution_count": 34,
   "id": "d5cbc0a7",
   "metadata": {},
   "outputs": [
    {
     "data": {
      "text/plain": [
       "('a', 1, 2, 3, 4, 5, 6, 'b', 'c')"
      ]
     },
     "execution_count": 34,
     "metadata": {},
     "output_type": "execute_result"
    }
   ],
   "source": [
    "tup = ('a',1,2,3,4,5,6,'b','c')\n",
    "tup"
   ]
  },
  {
   "cell_type": "code",
   "execution_count": 36,
   "id": "930c7e4c",
   "metadata": {},
   "outputs": [
    {
     "data": {
      "text/plain": [
       "9"
      ]
     },
     "execution_count": 36,
     "metadata": {},
     "output_type": "execute_result"
    }
   ],
   "source": [
    "len(tup)"
   ]
  },
  {
   "cell_type": "code",
   "execution_count": 35,
   "id": "f2b62b86",
   "metadata": {},
   "outputs": [
    {
     "data": {
      "text/plain": [
       "'a'"
      ]
     },
     "execution_count": 35,
     "metadata": {},
     "output_type": "execute_result"
    }
   ],
   "source": [
    "tup[0]"
   ]
  },
  {
   "cell_type": "code",
   "execution_count": 37,
   "id": "cfd4f329",
   "metadata": {},
   "outputs": [
    {
     "data": {
      "text/plain": [
       "('a', 1, 2, 3, 4, 5, 6, 'b', 'c')"
      ]
     },
     "execution_count": 37,
     "metadata": {},
     "output_type": "execute_result"
    }
   ],
   "source": [
    "tup[0:9]"
   ]
  },
  {
   "cell_type": "code",
   "execution_count": 38,
   "id": "56cfe9f4",
   "metadata": {},
   "outputs": [
    {
     "data": {
      "text/plain": [
       "('a', 1, 2, 3, 4)"
      ]
     },
     "execution_count": 38,
     "metadata": {},
     "output_type": "execute_result"
    }
   ],
   "source": [
    "tup[0:5]"
   ]
  },
  {
   "cell_type": "code",
   "execution_count": 39,
   "id": "32587179",
   "metadata": {},
   "outputs": [
    {
     "data": {
      "text/plain": [
       "('a', 1, 2, 3, 4, 5)"
      ]
     },
     "execution_count": 39,
     "metadata": {},
     "output_type": "execute_result"
    }
   ],
   "source": [
    "tup[:6]"
   ]
  },
  {
   "cell_type": "code",
   "execution_count": 40,
   "id": "8074fc0a",
   "metadata": {},
   "outputs": [
    {
     "data": {
      "text/plain": [
       "(5, 6, 'b', 'c')"
      ]
     },
     "execution_count": 40,
     "metadata": {},
     "output_type": "execute_result"
    }
   ],
   "source": [
    "tup[5:]"
   ]
  },
  {
   "cell_type": "code",
   "execution_count": 41,
   "id": "740ca355",
   "metadata": {},
   "outputs": [
    {
     "data": {
      "text/plain": [
       "('c',)"
      ]
     },
     "execution_count": 41,
     "metadata": {},
     "output_type": "execute_result"
    }
   ],
   "source": [
    "tup[-1:]"
   ]
  },
  {
   "cell_type": "code",
   "execution_count": 43,
   "id": "15ee1940",
   "metadata": {},
   "outputs": [
    {
     "data": {
      "text/plain": [
       "(1, 2, 3, 4, 5, 6, 'b', 'c')"
      ]
     },
     "execution_count": 43,
     "metadata": {},
     "output_type": "execute_result"
    }
   ],
   "source": [
    "tup[-8:]"
   ]
  },
  {
   "cell_type": "code",
   "execution_count": 45,
   "id": "da401120",
   "metadata": {},
   "outputs": [
    {
     "data": {
      "text/plain": [
       "(4, 5, 6, 'b')"
      ]
     },
     "execution_count": 45,
     "metadata": {},
     "output_type": "execute_result"
    }
   ],
   "source": [
    "tup[-5:-1]"
   ]
  },
  {
   "cell_type": "code",
   "execution_count": 46,
   "id": "fecb279c",
   "metadata": {},
   "outputs": [
    {
     "data": {
      "text/plain": [
       "('a', 1, 2, 3, 4, 5, 6, 'b')"
      ]
     },
     "execution_count": 46,
     "metadata": {},
     "output_type": "execute_result"
    }
   ],
   "source": [
    "tup[:-1]"
   ]
  },
  {
   "cell_type": "markdown",
   "id": "a8c29e2c",
   "metadata": {},
   "source": [
    "### Editing a tuple by changing it into a list"
   ]
  },
  {
   "cell_type": "markdown",
   "id": "946c8f14",
   "metadata": {},
   "source": [
    "* Even though tuples are immutable we can change it into a list and modify it and again change it into a list."
   ]
  },
  {
   "cell_type": "code",
   "execution_count": 47,
   "id": "49fa95fe",
   "metadata": {},
   "outputs": [
    {
     "data": {
      "text/plain": [
       "('a', 1, 2, 3, 4, 5, 6, 'b', 'c')"
      ]
     },
     "execution_count": 47,
     "metadata": {},
     "output_type": "execute_result"
    }
   ],
   "source": [
    "tup "
   ]
  },
  {
   "cell_type": "code",
   "execution_count": 60,
   "id": "30f5019d",
   "metadata": {},
   "outputs": [
    {
     "data": {
      "text/plain": [
       "['a', 1, 2, 3, 4, 5, 6, 'b', 'c']"
      ]
     },
     "execution_count": 60,
     "metadata": {},
     "output_type": "execute_result"
    }
   ],
   "source": [
    "tup_list = list(tup)\n",
    "tup_list"
   ]
  },
  {
   "cell_type": "code",
   "execution_count": 61,
   "id": "86d6da46",
   "metadata": {},
   "outputs": [
    {
     "data": {
      "text/plain": [
       "['a', 1, 2, 3, 4, 5, 6, 'b', 'c', 'a']"
      ]
     },
     "execution_count": 61,
     "metadata": {},
     "output_type": "execute_result"
    }
   ],
   "source": [
    "tup_list.append('a')\n",
    "tup_list"
   ]
  },
  {
   "cell_type": "code",
   "execution_count": 62,
   "id": "1aa5d7d9",
   "metadata": {},
   "outputs": [
    {
     "data": {
      "text/plain": [
       "['a', 1, 3, 4, 5, 6, 'b', 'c', 'a']"
      ]
     },
     "execution_count": 62,
     "metadata": {},
     "output_type": "execute_result"
    }
   ],
   "source": [
    "tup_list.remove(2)\n",
    "tup_list"
   ]
  },
  {
   "cell_type": "code",
   "execution_count": 63,
   "id": "68a22e4b",
   "metadata": {},
   "outputs": [
    {
     "data": {
      "text/plain": [
       "('a', 1, 3, 4, 5, 6, 'b', 'c', 'a')"
      ]
     },
     "execution_count": 63,
     "metadata": {},
     "output_type": "execute_result"
    }
   ],
   "source": [
    "tup = tuple(tup_list)\n",
    "tup"
   ]
  },
  {
   "cell_type": "markdown",
   "id": "f89dbd6e",
   "metadata": {},
   "source": [
    "### Packing and unpacking "
   ]
  },
  {
   "cell_type": "markdown",
   "id": "16aebd13",
   "metadata": {},
   "source": [
    "* When we create a tuple, we normally assign values to it. This is called \"packing\" a tuple\n",
    "* But, in Python, we are also allowed to extract the values back into variables. This is called \"unpacking\""
   ]
  },
  {
   "cell_type": "code",
   "execution_count": 68,
   "id": "af3aae98",
   "metadata": {},
   "outputs": [
    {
     "name": "stdout",
     "output_type": "stream",
     "text": [
      "a b\n"
     ]
    }
   ],
   "source": [
    "tup = ('a','b','c')\n",
    "\n",
    "A = tup[0]\n",
    "B = tup[1]\n",
    "\n",
    "print(A,B)"
   ]
  },
  {
   "cell_type": "code",
   "execution_count": 72,
   "id": "d6e402a6",
   "metadata": {},
   "outputs": [
    {
     "name": "stdout",
     "output_type": "stream",
     "text": [
      "a\n",
      "b\n",
      "c\n"
     ]
    }
   ],
   "source": [
    "(A,B,C) = tup\n",
    "\n",
    "print(A)\n",
    "print(B)\n",
    "print(C)"
   ]
  },
  {
   "cell_type": "code",
   "execution_count": 77,
   "id": "63333168",
   "metadata": {},
   "outputs": [
    {
     "ename": "ValueError",
     "evalue": "too many values to unpack (expected 2)",
     "output_type": "error",
     "traceback": [
      "\u001b[1;31m---------------------------------------------------------------------------\u001b[0m",
      "\u001b[1;31mValueError\u001b[0m                                Traceback (most recent call last)",
      "\u001b[1;32m<ipython-input-77-626d09dcd9f4>\u001b[0m in \u001b[0;36m<module>\u001b[1;34m\u001b[0m\n\u001b[1;32m----> 1\u001b[1;33m \u001b[1;33m(\u001b[0m\u001b[0mA\u001b[0m\u001b[1;33m,\u001b[0m\u001b[0mB\u001b[0m\u001b[1;33m)\u001b[0m \u001b[1;33m=\u001b[0m \u001b[0mtup\u001b[0m\u001b[1;33m\u001b[0m\u001b[1;33m\u001b[0m\u001b[0m\n\u001b[0m\u001b[0;32m      2\u001b[0m \u001b[1;33m\u001b[0m\u001b[0m\n\u001b[0;32m      3\u001b[0m \u001b[0mprint\u001b[0m\u001b[1;33m(\u001b[0m\u001b[0mA\u001b[0m\u001b[1;33m)\u001b[0m\u001b[1;33m\u001b[0m\u001b[1;33m\u001b[0m\u001b[0m\n\u001b[0;32m      4\u001b[0m \u001b[0mprint\u001b[0m\u001b[1;33m(\u001b[0m\u001b[0mB\u001b[0m\u001b[1;33m)\u001b[0m\u001b[1;33m\u001b[0m\u001b[1;33m\u001b[0m\u001b[0m\n",
      "\u001b[1;31mValueError\u001b[0m: too many values to unpack (expected 2)"
     ]
    }
   ],
   "source": [
    "(A,B) = tup\n",
    "\n",
    "print(A)\n",
    "print(B)\n"
   ]
  },
  {
   "cell_type": "code",
   "execution_count": 81,
   "id": "15e3e772",
   "metadata": {},
   "outputs": [
    {
     "name": "stdout",
     "output_type": "stream",
     "text": [
      "The value of \"A\" is a\n",
      "The value of \"B\" is ['b', 'c']\n"
     ]
    }
   ],
   "source": [
    "(A,*B) = tup\n",
    "\n",
    "print('The value of \"A\" is',A)\n",
    "print('The value of \"B\" is',B)"
   ]
  },
  {
   "cell_type": "markdown",
   "id": "fc71c754",
   "metadata": {},
   "source": [
    "* In the above code since there are no enough elements to unpack with  the help of asterisk we are using the last element as list to unpack"
   ]
  },
  {
   "cell_type": "markdown",
   "id": "5585aa60",
   "metadata": {},
   "source": [
    "### tuples in loops"
   ]
  },
  {
   "cell_type": "code",
   "execution_count": 82,
   "id": "3327e60b",
   "metadata": {},
   "outputs": [
    {
     "name": "stdout",
     "output_type": "stream",
     "text": [
      "a\n",
      "b\n",
      "c\n"
     ]
    }
   ],
   "source": [
    "tup = ('a','b','c')\n",
    "for i in tup:\n",
    "    print(i)"
   ]
  },
  {
   "cell_type": "code",
   "execution_count": 86,
   "id": "e37e85f7",
   "metadata": {},
   "outputs": [
    {
     "name": "stdout",
     "output_type": "stream",
     "text": [
      "a\n",
      "b\n",
      "c\n"
     ]
    }
   ],
   "source": [
    "i = 0\n",
    "while i in range(len(tup)):\n",
    "    print(tup[i])\n",
    "    i+=1"
   ]
  },
  {
   "cell_type": "markdown",
   "id": "151c2a13",
   "metadata": {},
   "source": [
    "### join tuples"
   ]
  },
  {
   "cell_type": "code",
   "execution_count": 104,
   "id": "21b490f7",
   "metadata": {},
   "outputs": [
    {
     "name": "stdout",
     "output_type": "stream",
     "text": [
      "('a', 'b', 'c', 'd', 'e', 'f')\n",
      "('a', 'b', 'c', 'a', 'b', 'c')\n"
     ]
    }
   ],
   "source": [
    "# tuples adding\n",
    "\n",
    "tup_1 = ('a','b','c')\n",
    "tup_2 = ('d','e','f')\n",
    "\n",
    "print(tup_1 + tup_2)\n",
    "print(tup_1 + tup_1)"
   ]
  },
  {
   "cell_type": "code",
   "execution_count": 105,
   "id": "20c55f22",
   "metadata": {},
   "outputs": [
    {
     "data": {
      "text/plain": [
       "('a', 'b', 'c', 'a', 'b', 'c', 'a', 'b', 'c')"
      ]
     },
     "execution_count": 105,
     "metadata": {},
     "output_type": "execute_result"
    }
   ],
   "source": [
    "# tuples multiplication\n",
    "\n",
    "tup_1 * 3"
   ]
  },
  {
   "cell_type": "markdown",
   "id": "642b7659",
   "metadata": {},
   "source": [
    "### tuple methods"
   ]
  },
  {
   "cell_type": "markdown",
   "id": "d3057c7b",
   "metadata": {},
   "source": [
    "* Python has two built-in methods that you can use on tuples."
   ]
  },
  {
   "cell_type": "code",
   "execution_count": 112,
   "id": "9530f5c0",
   "metadata": {},
   "outputs": [
    {
     "name": "stdout",
     "output_type": "stream",
     "text": [
      "2\n",
      "1\n"
     ]
    }
   ],
   "source": [
    "tup = (1,2,3,4,5,5,6,'a')\n",
    "print(tup.count(5))\n",
    "print(tup.count(1))"
   ]
  },
  {
   "cell_type": "code",
   "execution_count": 120,
   "id": "a4563a44",
   "metadata": {},
   "outputs": [
    {
     "name": "stdout",
     "output_type": "stream",
     "text": [
      "7\n",
      "4\n"
     ]
    }
   ],
   "source": [
    "print(tup.index('a'))\n",
    "print(tup.index(5))"
   ]
  }
 ],
 "metadata": {
  "kernelspec": {
   "display_name": "Python 3",
   "language": "python",
   "name": "python3"
  },
  "language_info": {
   "codemirror_mode": {
    "name": "ipython",
    "version": 3
   },
   "file_extension": ".py",
   "mimetype": "text/x-python",
   "name": "python",
   "nbconvert_exporter": "python",
   "pygments_lexer": "ipython3",
   "version": "3.8.8"
  }
 },
 "nbformat": 4,
 "nbformat_minor": 5
}
